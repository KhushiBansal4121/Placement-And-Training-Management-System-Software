{
  "nbformat": 4,
  "nbformat_minor": 0,
  "metadata": {
    "colab": {
      "provenance": []
    },
    "kernelspec": {
      "name": "python3",
      "display_name": "Python 3"
    },
    "language_info": {
      "name": "python"
    }
  },
  "cells": [
    {
      "cell_type": "markdown",
      "source": [
        "# Placement And Training Management System"
      ],
      "metadata": {
        "id": "0lVKSUjBR4Qa"
      }
    },
    {
      "cell_type": "markdown",
      "source": [
        "# Database Creation"
      ],
      "metadata": {
        "id": "vQHGZ29oChDD"
      }
    },
    {
      "cell_type": "code",
      "execution_count": 1,
      "metadata": {
        "id": "dEjnROx0CVR8",
        "colab": {
          "base_uri": "https://localhost:8080/"
        },
        "outputId": "dabde425-1749-4482-c6e1-8101111754b8"
      },
      "outputs": [
        {
          "output_type": "stream",
          "name": "stdout",
          "text": [
            "Created Database Successfully .\n"
          ]
        }
      ],
      "source": [
        "import sqlite3\n",
        "\n",
        "my_conn = sqlite3.connect(\"TPOMSSoftware.db\")\n",
        "print(\"Created Database Successfully .\")\n"
      ]
    },
    {
      "cell_type": "markdown",
      "source": [
        "#Login\n"
      ],
      "metadata": {
        "id": "yLXt2C_WD-zC"
      }
    },
    {
      "cell_type": "code",
      "source": [
        "import getpass\n",
        "\n",
        "def login(choice) :\n",
        "  if(choice is ( 1 or 2 )):\n",
        "    print(\"\\n----------------------Login Account As , Please Identify Yourself As---------------------\\n\")\n",
        "    print(\"------------------------------------------------------------------------------------------\")\n",
        "    print(\"| 1 | User                                                                               |\")\n",
        "    print(\"------------------------------------------------------------------------------------------\")\n",
        "    print(\"| 2 | Company                                                                            |\")\n",
        "    print(\"------------------------------------------------------------------------------------------\")\n",
        "    print(\"| 3 | Service Provider                                                                   |\")\n",
        "    print(\"------------------------------------------------------------------------------------------\")\n",
        "    print(\"| 4 | Developer                                                                          |\")\n",
        "    print(\"------------------------------------------------------------------------------------------\\n\\n\")\n",
        "\n",
        "    j = int(input(\"Enter The Number Of Your choice   :- \"))\n",
        "    let_login = j\n",
        "\n",
        "    if(j == 1):\n",
        "      email = input(\"Enter Your Personal Email Id :- \")\n",
        "      print(\"Enter Your Password :- \",end = '')\n",
        "      password = getpass.getpass()\n",
        "\n",
        "      \n",
        "      #Create Table\n",
        "      my_conn.execute('''\n",
        "      CREATE TABLE IF NOT EXISTS login_user\n",
        "      (\n",
        "      email text , \n",
        "      password text \n",
        "      );''')\n",
        "      my_conn.commit()\n",
        "      print(\"Login Account User Created Successfully . \")\n",
        "\n",
        "      #Insert Data\n",
        "      my_conn.execute(\"insert into login_user values(?,?)\",(email , password))\n",
        "\n",
        "      Placement_Or_Training(let_login)\n",
        "  \n",
        "    elif(j == 2):\n",
        "      email = input(\"Enter Your Recruiter's / Company's Email Id :- \")\n",
        "      print(\"Enter Your Password :- \",end = '')\n",
        "      password = getpass.getpass()\n",
        "\n",
        "      #Create Table\n",
        "      my_conn.execute('''\n",
        "      CREATE TABLE IF NOT EXISTS login_recruiter\n",
        "      (\n",
        "      email text , \n",
        "      password text \n",
        "      );''')\n",
        "      my_conn.commit()\n",
        "      print(\"Login Account Recruiter Created Successfully . \")\n",
        "\n",
        "      #Insert Data\n",
        "      my_conn.execute(\"insert into login_recruiter values(?,?)\",(email , password))\n",
        "\n",
        "      Placement(let_login)\n",
        "\n",
        "\n",
        "    elif(j == 3):\n",
        "      email = input(\"Enter Your Service Provider Email Id :- \")\n",
        "      print(\"Enter Your Password :- \",end = '')\n",
        "      password = getpass.getpass()\n",
        "\n",
        "      #Create Table\n",
        "      my_conn.execute('''\n",
        "      CREATE TABLE IF NOT EXISTS login_service_provider\n",
        "      (\n",
        "      email text , \n",
        "      password text \n",
        "      );''')\n",
        "      my_conn.commit()\n",
        "      print(\"Login Account Service Provider Created Successfully . \")\n",
        "\n",
        "      #Insert Data\n",
        "      my_conn.execute(\"insert into login_service_provider values(?,?)\",(email , password))\n",
        "\n",
        "      Training(let_login)\n",
        "      "
      ],
      "metadata": {
        "id": "JULt1XnMD-Mq"
      },
      "execution_count": 2,
      "outputs": []
    },
    {
      "cell_type": "markdown",
      "source": [
        "#Create Account ."
      ],
      "metadata": {
        "id": "p-0AOOILJJjV"
      }
    },
    {
      "cell_type": "code",
      "source": [
        "def create_account(choice) :\n",
        "\n",
        "  if(choice is 2):\n",
        "    print(\"----------------------Create Account As , Please Identify Yourself As---------------------\")\n",
        "    print(\"------------------------------------------------------------------------------------------\")\n",
        "    print(\"| 1 | User                                                                               |\")\n",
        "    print(\"------------------------------------------------------------------------------------------\")\n",
        "    print(\"| 2 | Company                                                                            |\")\n",
        "    print(\"------------------------------------------------------------------------------------------\")\n",
        "    print(\"| 3 | Service Provider                                                                   |\")\n",
        "    print(\"------------------------------------------------------------------------------------------\")\n",
        "    #print(\"Note / P.S :- 4 -- > If Developer Or Software Handler , Then No Need To Create Account , As Account Is Already Developed By Company , So Only Login For It , With Your Identity Card ID ( Unique ) And Put Password As Your Personal Computer Password .\")\n",
        "\n",
        "    j = int(input(\"Enter The Number Of Your choice   :- \"))\n",
        "\n",
        "    let_create_account = j\n",
        "\n",
        "    if(j == 1):\n",
        "      Name = input(\"Enter Your Name :- \")\n",
        "      FatherName = input(\"Enter Your Father's Name :- \")\n",
        "      MotherName = input(\"Enter Your Mother's Name :- \")\n",
        "      Phone = int(input(\"Enter Your Personal Mobile / Phone Number :- \"))\n",
        "      Email = input(\"Enter Your Personal Email Id :- \")\n",
        "      CollegeID = input(\"Enter Your College ID :- \")\n",
        "      CGPA = float(input(\"Enter Your CGPA Aggregate Till Latest Result :- \"))\n",
        "      Linkedln = input(\"Enter Your Linkedln ID / Link / If not then write 'No':- \")\n",
        "      Password = input(\"Enter Your Password :- \")\n",
        "\n",
        "      #Create Table\n",
        "      my_conn.execute('''\n",
        "      CREATE TABLE IF NOT EXISTS account_user\n",
        "      (\n",
        "      name text ,\n",
        "      fname text,\n",
        "      mname text ,\n",
        "      phone number, \n",
        "      email text ,\n",
        "      collegeid text Primary Key , \n",
        "      CGPA number,\n",
        "      linkedln text ,\n",
        "      password text UNIQUE \n",
        "      );''')\n",
        "      my_conn.commit()\n",
        "      print(\"Create Account Created Successfully . \")\n",
        "  \n",
        "      #Insert Data\n",
        "      my_conn.execute(\"insert into account_user values(?,?,?,?,?,?,?,?,?)\",(Name,FatherName,MotherName,Phone,Email,CollegeID,CGPA,Linkedln,Password))\n",
        "  \n",
        "      Placement_Or_Training(let_create_account)\n",
        "\n",
        "    elif(j == 2):\n",
        "      Name = input(\"Enter Your Company Name :- \")\n",
        "      Address = input(\"Enter Your Address :- \")\n",
        "      City = input(\"Enter Your City :- \")\n",
        "      State = input(\"Enter Your State :- \")\n",
        "      Country = input(\"Enter Your Country :- \")\n",
        "      Email = input(\"Enter Your Personal Email Id :- \")\n",
        "      Linkedln = input(\"Enter Your Linkedln ID / Link :- \")\n",
        "      Website = input(\"Enter Your Personal Website :- \")\n",
        "      Password = input(\"Enter Your Personal Password ( Don't Disclose It To Anyone .................)\")\n",
        "      #Create Table\n",
        "      my_conn.execute('''\n",
        "      CREATE TABLE IF NOT EXISTS account_recruiter\n",
        "      (\n",
        "      name text ,\n",
        "      address text ,\n",
        "      city text ,\n",
        "      state text , \n",
        "      country text ,\n",
        "      email text Primary Key , \n",
        "      linkedln text ,\n",
        "      website text ,\n",
        "      password text UNIQUE \n",
        "      );''')\n",
        "      my_conn.commit()\n",
        "      print(\"Create Account Recruiter / Company Created Successfully . \")\n",
        "  \n",
        "      #Insert Data\n",
        "      my_conn.execute(\"insert into account_recruiter values(?,?,?,?,?,?,?,?,?)\",(Name , Address , City , State , Country , Email , Linkedln , Website , Password))\n",
        "\n",
        "      Placement(let_create_account)\n",
        "\n",
        "    elif(j == 3):\n",
        "      Name = input(\"Enter Your Company Name :- \")\n",
        "      Address = input(\"Enter Your Address :- \")\n",
        "      City = input(\"Enter Your City :- \")\n",
        "      State = input(\"Enter Your State :- \")\n",
        "      Country = input(\"Enter Your Country :- \")\n",
        "      Email = input(\"Enter Your Personal Email Id :- \")\n",
        "      Linkedln = input(\"Enter Your Linkedln ID / Link :- \")\n",
        "      Website = input(\"Enter Your Personal Website :- \")\n",
        "      Password = input(\"Enter Your Personal Password ( Don't Disclose It To Anyone .................)\")\n",
        "      \n",
        "      #Create Table\n",
        "      my_conn.execute('''\n",
        "      CREATE TABLE IF NOT EXISTS account_service_provider\n",
        "      (\n",
        "      name text ,\n",
        "      address text ,\n",
        "      city text ,\n",
        "      state text , \n",
        "      country text ,\n",
        "      email text Primary Key , \n",
        "      linkedln text ,\n",
        "      website text ,\n",
        "      password text UNIQUE \n",
        "      );''')\n",
        "      my_conn.commit()\n",
        "      print(\"Create Account Service Provider Created Successfully . \")\n",
        "\n",
        "      #Insert Data\n",
        "      my_conn.execute(\"insert into account_service_provider values(?,?,?,?,?,?,?,?,?)\",(Name , Address , City , State , Country , Email , Linkedln , Website , Password))\n",
        "\n",
        "      Training(let_create_account)\n",
        "      "
      ],
      "metadata": {
        "id": "-hmx8CeOJOtv"
      },
      "execution_count": 3,
      "outputs": []
    },
    {
      "cell_type": "markdown",
      "source": [
        "#Placement Or Training ."
      ],
      "metadata": {
        "id": "H7DGeaSgVq9J"
      }
    },
    {
      "cell_type": "code",
      "source": [
        "def Placement_Or_Training(ll):\n",
        "  choice = 1 \n",
        "  while ( choice == 1 or choice == 2):\n",
        "    print(\"--------- Placement Or Training ---------\")\n",
        "    print(\"-----------------------------------------\")\n",
        "    print(\"| 1 | Placement                         |\")\n",
        "    print(\"-----------------------------------------\")\n",
        "    print(\"| 2 | Training                          |\")\n",
        "    print(\"-----------------------------------------\")\n",
        "    print(\"| 3 | Logout                            |\")\n",
        "    print(\"-----------------------------------------\")\n",
        "    choice  = int(input(\"Enter The Number Of Your choice   :- \"))\n",
        "    if(choice  == 1) :\n",
        "      Placement(ll)\n",
        "    elif(choice  == 2) :\n",
        "      Training(ll)"
      ],
      "metadata": {
        "id": "galjOjFqVu1b"
      },
      "execution_count": 4,
      "outputs": []
    },
    {
      "cell_type": "markdown",
      "source": [
        "# Placement ."
      ],
      "metadata": {
        "id": "neSOric0Wxd_"
      }
    },
    {
      "cell_type": "code",
      "source": [
        "def Placement(pp) :\n",
        "  a = pp\n",
        "  while a is 2 :\n",
        "    CName = input(\"Enter Your Company Name :- \")\n",
        "    JPoisition = input(\"Enter The Job Position Company Provides :- \")\n",
        "    JRequirements = input(\"Enter The Job Profile Requirements Company Is Asking :- \")\n",
        "    JSalary = float(input(\"Enter The Average Salary Or CTC Offered By Company :- \"))\n",
        "    JStartDate = input(\"Enter Starting Date For Enrollement Process :- \")\n",
        "    JEndDate = input(\"Enter End Date For Enrollement Process :- \")\n",
        "    JFormFill = input(\"Enter The Website Where Online Enrollement Form Need To Fill / If Offline Then Company Address Where Enrollement Form Needs To Fill :-  \")\n",
        "    JResources = input(\"Enter Resources For Prepration ( Website Or PDF Link ) / if not then write NA :- \")\n",
        "    JMoreInformation = input(\"Enter The Number Or Website For More Information Or Resolution Of Query :- \")\n",
        "\n",
        "    #Create Table\n",
        "    my_conn.execute('''\n",
        "    CREATE TABLE IF NOT EXISTS placement\n",
        "    (\n",
        "    name text ,\n",
        "    position text ,\n",
        "    requirements text ,\n",
        "    salary number , \n",
        "    sdate text , \n",
        "    edate text ,\n",
        "    formfill text , \n",
        "    resources text ,\n",
        "    moreinformation text \n",
        "    );''')\n",
        "    my_conn.commit()\n",
        "    print(\"Placement Table Created Successfully . \")\n",
        "  \n",
        "    #Insert Data\n",
        "    my_conn.execute(\"insert into placement values(?,?,?,?,?,?,?,?,?)\",(CName,JPoisition,JRequirements,JSalary,JStartDate, JEndDate,JFormFill,JResources,JMoreInformation))\n",
        "\n",
        "    if pp is not 3 :\n",
        "      #Represent Data Placement ( Recruiter )\n",
        "      r_set=my_conn.execute('''SELECT * from placement''');\n",
        "      for row in r_set:\n",
        "        print(row)\n",
        "\n",
        "    a = int(input(\"Enter 3 for Logout or 2 to continue .\"))\n"
      ],
      "metadata": {
        "id": "R537Tq_tfETu"
      },
      "execution_count": 5,
      "outputs": []
    },
    {
      "cell_type": "markdown",
      "source": [
        "# Training ."
      ],
      "metadata": {
        "id": "kPdDWd7nt5OU"
      }
    },
    {
      "cell_type": "code",
      "source": [
        "def Training(tt) :\n",
        "  b = tt\n",
        "  while b is 3 :\n",
        "    TName = input(\"Enter Your Company Or Training Institute Name :- \")\n",
        "    TCourse = input(\"Enter The Course Company Or Training Institute Provides :- \")\n",
        "    TCost = float(input(\"Enter The Average Cost Or Total / Complete Fees Asked By Company Or Training Institute For Course / Training Offered  :- \"))\n",
        "    TStartDate = input(\"Enter Starting Date For Enrollement Process :- \")\n",
        "    TEndDate = input(\"Enter End Date For Enrollement Process :- \")\n",
        "    TFormFill = input(\"Enter The Website Where Online Enrollement Form Need To Fill / If Offline Then Company Or Training Institute Address Where Enrollement Form Needs To Fill :-  \")\n",
        "    TResources = input(\"Enter Sample Resources ( Website Or PDF Link ) / if not then write NA :- \")\n",
        "    TCertifications = input(\"Enter If Certificate Provide --> Yes or yes or y or YA and If Not Provided Certificate Then --> No or no or n or NA\")\n",
        "    TMoreInformation = input(\"Enter The Number Or Website For More Information Or Resolution Of Query :- \")\n",
        "\n",
        "    #Create Table\n",
        "    my_conn.execute('''\n",
        "    CREATE TABLE IF NOT EXISTS training\n",
        "    (\n",
        "    name text ,\n",
        "    course text ,\n",
        "    cost number , \n",
        "    sdate text , \n",
        "    edate text ,\n",
        "    formfill text , \n",
        "    resources text ,\n",
        "    certifications text ,\n",
        "    moreinformation text \n",
        "    );''')\n",
        "    my_conn.commit()\n",
        "    print(\"Training Table Created Successfully . \")\n",
        "  \n",
        "    #Insert Data\n",
        "    my_conn.execute(\"insert into training values(?,?,?,?,?,?,?,?,?)\",(TName,TCourse,TCost,TStartDate, TEndDate,TFormFill,TResources,TCertifications,TMoreInformation))\n",
        "\n",
        "    if tt is not 2 :\n",
        "      #Represent Data Training ( Service Provider ) .\n",
        "      r_set=my_conn.execute('''SELECT * from training''');\n",
        "      for row in r_set:\n",
        "        print(row)\n",
        "\n",
        "    b = int(input(\"Input 4 for Logout and 3 for Continue .\"))\n"
      ],
      "metadata": {
        "id": "s67OF3qSt7e9"
      },
      "execution_count": 8,
      "outputs": []
    },
    {
      "cell_type": "markdown",
      "source": [
        "#TPO"
      ],
      "metadata": {
        "id": "g_dkBNNcDELU"
      }
    },
    {
      "cell_type": "code",
      "source": [
        "import webbrowser\n",
        "\n",
        "print(\"-----------------Welcome To Placement And Training Management System Software-------------\")\n",
        "print(\"------------------------------------------------------------------------------------------\")\n",
        "print(\"| 1 | Login                                                                              |\")\n",
        "print(\"------------------------------------------------------------------------------------------\")\n",
        "print(\"| 2 | Create Account                                                                      \")\n",
        "print(\"------------------------------------------------------------------------------------------\")\n",
        "print(\"| 3 | Developer                                                                           \")\n",
        "print(\"------------------------------------------------------------------------------------------\")\n",
        "choice = int(input(\"Enter The Number Of Your choice   :- \"))\n",
        "if(choice == 1):\n",
        "  login(choice)\n",
        "elif(choice == 2):\n",
        "  create_account(choice)\n",
        "elif(choice == 3):\n",
        "  webbrowser.open('https://colab.research.google.com/drive/1WyVy55Ry0bGjbYQptVmq4DxIEs0bRmn-#scrollTo=AY3VymCrDGZM')\n",
        "  #Open Web Browser When Using \".py\" or \"executable python file \" in Python Programming Language In Google Colab Using Webbrowser Library or Importing It To Open An URL in New Tab .\n",
        "\n",
        "print(\"Logout Successfully ..................................................................................................\")\n",
        "print(\"Please Visit The Website Again .\\nThank You .\\nBy . \")"
      ],
      "metadata": {
        "id": "AY3VymCrDGZM",
        "colab": {
          "base_uri": "https://localhost:8080/"
        },
        "outputId": "44f00763-3f15-448d-94a0-0e7926ed28f4"
      },
      "execution_count": 9,
      "outputs": [
        {
          "output_type": "stream",
          "name": "stdout",
          "text": [
            "-----------------Welcome To Placement And Training Management System Software-------------\n",
            "------------------------------------------------------------------------------------------\n",
            "| 1 | Login                                                                              |\n",
            "------------------------------------------------------------------------------------------\n",
            "| 2 | Create Account                                                                      \n",
            "------------------------------------------------------------------------------------------\n",
            "| 3 | Developer                                                                           \n",
            "------------------------------------------------------------------------------------------\n",
            "Enter The Number Of Your choice   :- 1\n",
            "\n",
            "----------------------Login Account As , Please Identify Yourself As---------------------\n",
            "\n",
            "------------------------------------------------------------------------------------------\n",
            "| 1 | User                                                                               |\n",
            "------------------------------------------------------------------------------------------\n",
            "| 2 | Company                                                                            |\n",
            "------------------------------------------------------------------------------------------\n",
            "| 3 | Service Provider                                                                   |\n",
            "------------------------------------------------------------------------------------------\n",
            "| 4 | Developer                                                                          |\n",
            "------------------------------------------------------------------------------------------\n",
            "\n",
            "\n",
            "Enter The Number Of Your choice   :- 3\n",
            "Enter Your Service Provider Email Id :- p\n",
            "Enter Your Password :- ··········\n",
            "Login Account Service Provider Created Successfully . \n",
            "Enter Your Company Or Training Institute Name :- p\n",
            "Enter The Course Company Or Training Institute Provides :- p\n",
            "Enter The Average Cost Or Total / Complete Fees Asked By Company Or Training Institute For Course / Training Offered  :- 1\n",
            "Enter Starting Date For Enrollement Process :- 2\n",
            "Enter End Date For Enrollement Process :- 3\n",
            "Enter The Website Where Online Enrollement Form Need To Fill / If Offline Then Company Or Training Institute Address Where Enrollement Form Needs To Fill :-  p\n",
            "Enter Sample Resources ( Website Or PDF Link ) / if not then write NA :- p\n",
            "Enter If Certificate Provide --> Yes or yes or y or YA and If Not Provided Certificate Then --> No or no or n or NAy\n",
            "Enter The Number Or Website For More Information Or Resolution Of Query :- p\n",
            "Training Table Created Successfully . \n",
            "('p', 'p', 1, '2', '3', 'p', 'p', 'y', 'p')\n",
            "Input 4 for Logout and 3 for Continue .3\n",
            "Enter Your Company Or Training Institute Name :- q\n",
            "Enter The Course Company Or Training Institute Provides :- q\n",
            "Enter The Average Cost Or Total / Complete Fees Asked By Company Or Training Institute For Course / Training Offered  :- 11\n",
            "Enter Starting Date For Enrollement Process :- 2\n",
            "Enter End Date For Enrollement Process :- 2\n",
            "Enter The Website Where Online Enrollement Form Need To Fill / If Offline Then Company Or Training Institute Address Where Enrollement Form Needs To Fill :-  q\n",
            "Enter Sample Resources ( Website Or PDF Link ) / if not then write NA :- q\n",
            "Enter If Certificate Provide --> Yes or yes or y or YA and If Not Provided Certificate Then --> No or no or n or NAy\n",
            "Enter The Number Or Website For More Information Or Resolution Of Query :- q\n",
            "Training Table Created Successfully . \n",
            "('p', 'p', 1, '2', '3', 'p', 'p', 'y', 'p')\n",
            "('q', 'q', 11, '2', '2', 'q', 'q', 'y', 'q')\n",
            "Input 4 for Logout and 3 for Continue .4\n",
            "Logout Successfully ..................................................................................................\n",
            "Please Visit The Website Again .\n",
            "Thank You .\n",
            "By . \n"
          ]
        }
      ]
    }
  ]
}